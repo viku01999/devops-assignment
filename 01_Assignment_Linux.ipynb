{
  "cells": [
    {
      "cell_type": "markdown",
      "source": [
        "# 1. What is linux?\n",
        "- Linux is a open source operating system.\n",
        "- (Lightweigth, Open source, multiuser support)\n",
        "- Some distribution (Ubuntu, Debian, Kali linux)\n"
      ],
      "metadata": {
        "id": "aB-7-_wyyVxV"
      }
    },
    {
      "cell_type": "markdown",
      "source": [
        "# 2. What is the difference between Hard Link & Soft Link?\n",
        "**Hard link**\n",
        "- A hard link is another name for the same file created by linux. Both names point to thee same data.\n",
        "\n",
        "**Soft link**\n",
        "- This is also called symbolic link is like a shortcut that points to the original file.\n",
        "\n",
        "\n",
        "**Difference**\n",
        "\n",
        "*   In hard link if original file deleted then we can access the file from hard link but in the soft link Link will be broken.\n",
        "\n",
        "\n",
        "*   Hard link is actual file but soft link points to the another file.\n",
        "*   In the hard link inode number same as original file but in the soft link in ode number will be different from the original file.\n",
        "\n",
        "\n",
        "**How to create hard link (I am using ubuntu)**\n",
        "```bash\n",
        "# Create a file with the name original.txt and add some data.\n",
        "echo \"Hello vikas\" > original.txt\n",
        "# Now create a hard link\n",
        "ln original.txt hardlink.txt\n",
        "# Now you can see the two files with the same data in the respected dir. If you will modify the original.txt content then harlink.txt file will be automatically modify. (By the way you can modify both original file and hardlink file and the same data will be display)\n",
        "# If you delete the original file then hardlink.txt will not delete.\n",
        "# To see the inode of file use this command( ls -li original.txt hardlink.txt ) (inode will be same for both files)\n",
        "```\n",
        "\n",
        "**How to create soft link**\n",
        "```bash\n",
        "# Create a file with the name original.txt and add some data.\n",
        "echo \"Hello vikas\" > original.txt\n",
        "# Now create a soft link\n",
        "ln -s original.txt softlink.txt\n",
        "Note:- (-s means symbolic link)\n",
        "# Now you can see the two files with the same data in the respected dir. If you will modify the original.txt content then softlink.txt file will be automatically modify. (By the way you can modify both original file and softlink file and the same data will be display)\n",
        "# To verify the links\n",
        "ls -l\n",
        "# If the original file deleted then refrence file data will be deleted automatically (But refrence file will not delete - softlink.txt).\n",
        "rm softlink.txt\n",
        "```\n"
      ],
      "metadata": {
        "id": "d0jCqwaL0nJk"
      }
    },
    {
      "cell_type": "markdown",
      "source": [
        "# 3. What is the Kernel in Linux?\n",
        "- Kernal is the brain of linux operating system or we can say engine of this OS.\n",
        "- Kernal is the bridge between hardware and software.\n",
        "\n",
        "**What does the kernel do?**\n",
        "\n",
        "\n",
        "*   Memory management\n",
        "*   Manage files and folders permissions\n",
        "\n",
        "\n",
        "*   Manage processing or processor\n",
        "*   Communicate with hardware like disk, network\n",
        "\n",
        "\n",
        "\n"
      ],
      "metadata": {
        "id": "jiEr9OV1FZsQ"
      }
    },
    {
      "cell_type": "markdown",
      "source": [
        "# 4. How do you create a user account?\n",
        "```bash\n",
        "# To create a user run command below with password.\n",
        "sudo adduser username\n",
        "\n",
        "# To see the info of users\n",
        "id username\n",
        "\n",
        "# To see the list of users.\n",
        "cut -d: -f1 /etc/passwd\n",
        "\n",
        "# To provide the root access to the newly added users.\n",
        "sudo usermod -aG sudo username\n",
        "\n",
        "# Switch user (Password required)\n",
        "su - username\n",
        "\n",
        "# Lock unlock\n",
        "sudo usermod --lock username\n",
        "sudo usermod --unlock\n",
        "\n",
        "# To see the running process of user\n",
        "ps -u vikas\n",
        "\n",
        "# To kill all process of vikas\n",
        "sudo pkill -u vikas\n",
        "\n",
        "# To kill specific process\n",
        "sudo kill -9 process_id\n",
        "\n",
        "# Delete users\n",
        "sudo deluser username (Only user not home dir)\n",
        "sudo deluser --remove-home username\n",
        "```"
      ],
      "metadata": {
        "id": "HAO0nfBDG_-t"
      }
    },
    {
      "cell_type": "markdown",
      "source": [
        "# 5. What is 'grep' command.\n",
        "\n",
        "\"grep\" command is powerful tool provided by linux.This is use for filtering and searching using text patterns and you can also use the regular expressions.\n",
        "\n",
        "```bash\n",
        "grep \"vikas\" profile.txt\n",
        "\n",
        "# To serach recursively\n",
        "grep -r \"vikas\" /\n",
        "\n",
        "# Ignore case\n",
        "grep -i \"vikas\" profile.txt\n",
        "\n",
        "#reguler exp\n",
        "gerp \"^vikas\" profile.txt\n",
        "\n",
        "```"
      ],
      "metadata": {
        "id": "xlDnYn90v3pH"
      }
    },
    {
      "cell_type": "markdown",
      "source": [
        "# 6. Follow this\n",
        "# Step1: Create user p1\n",
        "# Step2: He should be part of 3 groups g1,g2,g3.\n",
        "# Step3: whenever he creates a file automatically in the group section of file grp g1 should come.\n",
        "\n",
        "```bash\n",
        "# Create user with password 123\n",
        "sudo adduser user1\n",
        "\n",
        "# Create three groups\n",
        "sudo addgroup group1\n",
        "sudo addgroup group2\n",
        "sudo addgroup group3\n",
        "\n",
        "# Add user into all groups\n",
        "sudo usermod -aG group1,group2,group3 user1\n",
        "\n",
        "# Assign primary group for the user\n",
        "sudo usermod -g group1 user1\n",
        "\n",
        "# Login through the user1\n",
        "su - user1\n",
        "\n",
        "# Create file\n",
        "touch testfile.txt\n",
        "\n",
        "# See the psermissions\n",
        "ls-l testfile.txt\n",
        "\n",
        "# Result\n",
        "-rw-rw-r-- 1 user1 group1 0 Oct 11 11:15 testfile.txt\n",
        "\n",
        "Now we can created by user1 and automatically assign group1\n",
        "```"
      ],
      "metadata": {
        "id": "eIEtphcfxfA0"
      }
    },
    {
      "cell_type": "markdown",
      "source": [],
      "metadata": {
        "id": "I8eiolSiED45"
      }
    },
    {
      "cell_type": "markdown",
      "source": [
        "# 7. Follow this\n",
        "# Step1: Create directory /tmp/bg as root user and create files inside it.\n",
        "# Step2: “abhi” should be the owner of the directory. He should be able to    create files and delete files inside\n",
        "#the directory and also he should be able to add content to\n",
        "\n",
        "```bash\n",
        "# Create user abhi\n",
        "sudo adduser abhi\n",
        "\n",
        "# Create dir\n",
        "sudo mkdir /tmp/bg\n",
        "\n",
        "# Update permission\n",
        "\n",
        "# Make abhi the owner of this dir\n",
        "sudo chown -R abhi:abhi /tmp/bg\n",
        "\n",
        "# Verify\n",
        "ls -ld /tmp/bg\n",
        "\n",
        "# Result\n",
        "drwx------ 2 abhi abhi 80 Oct 11 11:47 /tmp/bg\n",
        "\n",
        "# Switch to abhi\n",
        "su - abhi\n",
        "\n",
        "# Create files into this bg folder\n",
        "touch /tmp/bg/file1.txt /tmp/bg/file2.txt\n",
        "\n",
        "# Run this\n",
        "ls -l /tmp/bg/*\n",
        "\n",
        "# Result\n",
        "-rw-r--r-- 1 abhi abhi 42 Oct 11 11:55 /tmp/bg/file1.txt\n",
        "-rw-r--r-- 1 abhi abhi  0 Oct 11 11:47 /tmp/bg/file2.txt\n",
        "```\n",
        "\n"
      ],
      "metadata": {
        "id": "sqygEEYF4M9I"
      }
    },
    {
      "cell_type": "markdown",
      "source": [
        "# 8. You suspect that a particular process is consuming excessive CPU resources on your Linux server. How would you identify and terminate this process?\n",
        "\n",
        "\n",
        "```bash\n",
        "# Using to and htop we can see the processes\n",
        "top\n",
        "htop\n",
        "\n",
        "# Kill process gracefully\n",
        "sudo kill <pid>\n",
        "\n",
        "# Kill process termination\n",
        "sudo kill -9 <pid>\n",
        "\n",
        "# Using this command you can see the perticuler process\n",
        "ps -p 22415 -o pid,ppid,cmd,%mem,%cpu\n",
        "\n",
        "# Result will be\n",
        "22415    8206 /opt/google/chrome/chrome -  2.3 14.7\n",
        "\n",
        "```"
      ],
      "metadata": {
        "id": "hmi2o9mYEE21"
      }
    }
  ],
  "metadata": {
    "colab": {
      "provenance": []
    },
    "kernelspec": {
      "display_name": "Python 3",
      "name": "python3"
    }
  },
  "nbformat": 4,
  "nbformat_minor": 0
}